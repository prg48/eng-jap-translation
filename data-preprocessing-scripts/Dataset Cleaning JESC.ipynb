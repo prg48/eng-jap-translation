{
 "cells": [
  {
   "cell_type": "code",
   "execution_count": null,
   "metadata": {},
   "outputs": [],
   "source": [
    "# load the JESC dataset\n",
    "from datasets import load_from_disk\n",
    "\n",
    "save_location = \"drive/MyDrive/Language_translation/data/en-jp-JESC\"\n",
    "raw_datasets = load_from_disk(save_location)\n",
    "raw_datasets"
   ]
  },
  {
   "cell_type": "code",
   "execution_count": null,
   "metadata": {},
   "outputs": [],
   "source": [
    "# shuffle the dataset\n",
    "raw_datasets = raw_datasets.shuffle()\n",
    "\n",
    "# select 1 million sentences from the data\n",
    "raw_datasets = raw_datasets.select(range(1000000))"
   ]
  },
  {
   "cell_type": "code",
   "execution_count": null,
   "metadata": {},
   "outputs": [],
   "source": [
    "# function to split data 80% train, 10% validation, 10% test\n",
    "\n",
    "def create_splits(data):\n",
    "  first_split = data.train_test_split(test_size=0.20)\n",
    "  train = first_split.pop(\"train\")\n",
    "  second_split = first_split[\"test\"].train_test_split(test_size=0.50)\n",
    "  validation = second_split.pop(\"train\")\n",
    "  test = second_split.pop(\"test\")\n",
    "  second_split[\"train\"] = train\n",
    "  second_split[\"validation\"] = validation\n",
    "  second_split[\"test\"] = test\n",
    "  return second_split\n",
    "\n",
    "split_datasets = create_splits(raw_datasets)"
   ]
  },
  {
   "cell_type": "code",
   "execution_count": null,
   "metadata": {},
   "outputs": [],
   "source": [
    "# create a translation column with en and jp \n",
    "def create_translation_row(example):\n",
    "  example[\"translation\"] = {\"en\": example[\"en\"], \"jp\": example[\"jp\"]}\n",
    "  return example\n",
    "\n",
    "clean_datasets = split_datasets.map(create_translation_row)"
   ]
  },
  {
   "cell_type": "code",
   "execution_count": null,
   "metadata": {},
   "outputs": [],
   "source": [
    "# save final cleaned data\n",
    "final_data.save_to_disk(\"drive/MyDrive/Language_translation/data/en-jp-JSEC-subset\")"
   ]
  }
 ],
 "metadata": {
  "language_info": {
   "name": "python"
  },
  "orig_nbformat": 4
 },
 "nbformat": 4,
 "nbformat_minor": 2
}
